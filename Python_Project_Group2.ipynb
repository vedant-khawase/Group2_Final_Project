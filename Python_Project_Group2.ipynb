{
  "nbformat": 4,
  "nbformat_minor": 0,
  "metadata": {
    "colab": {
      "provenance": []
    },
    "kernelspec": {
      "name": "python3",
      "display_name": "Python 3"
    },
    "language_info": {
      "name": "python"
    }
  },
  "cells": [
    {
      "cell_type": "code",
      "execution_count": 1,
      "metadata": {
        "id": "am0u_Mezzf8m"
      },
      "outputs": [],
      "source": [
        "import numpy as np\n",
        "import pandas as pd\n",
        "import seaborn as sns\n",
        "import requests\n",
        "import io\n",
        "\n",
        "%reload_ext google.colab.data_table"
      ]
    },
    {
      "cell_type": "code",
      "source": [
        "#Reading the csv file to get the confirmed cases\n",
        "confirmed_cases_url = \"https://raw.githubusercontent.com/CSSEGISandData/COVID-19/master/csse_covid_19_data/csse_covid_19_time_series/time_series_covid19_confirmed_global.csv\"\n",
        "\n",
        "#Reading the csv file to get the total deaths\n",
        "deaths_url = \"https://raw.githubusercontent.com/CSSEGISandData/COVID-19/master/csse_covid_19_data/csse_covid_19_time_series/time_series_covid19_deaths_global.csv\"\n",
        "\n",
        "#Storing the Data into dataframe\n",
        "confirmed_cases_df = pd.read_csv(confirmed_cases_url)\n",
        "deaths_df = pd.read_csv(deaths_url)\n",
        "\n",
        "#aggregating and suming both data frames \n",
        "confirmed_cases_global = confirmed_cases_df.groupby(['Country/Region']).sum().reset_index()\n",
        "deaths_global = deaths_df.groupby(['Country/Region']).sum().reset_index()\n",
        "global_data = pd.merge(confirmed_cases_global, deaths_global, on='Country/Region', suffixes=('_confirmed', '_deaths'))\n",
        "print(global_data)"
      ],
      "metadata": {
        "id": "SS4eq5o30uFH",
        "colab": {
          "base_uri": "https://localhost:8080/"
        },
        "outputId": "b602112f-f807-44b7-d95a-8ff34b9a0118"
      },
      "execution_count": 2,
      "outputs": [
        {
          "output_type": "stream",
          "name": "stderr",
          "text": [
            "<ipython-input-2-54c0961aeb5e>:12: FutureWarning: The default value of numeric_only in DataFrameGroupBy.sum is deprecated. In a future version, numeric_only will default to False. Either specify numeric_only or select only columns which should be valid for the function.\n",
            "  confirmed_cases_global = confirmed_cases_df.groupby(['Country/Region']).sum().reset_index()\n"
          ]
        },
        {
          "output_type": "stream",
          "name": "stdout",
          "text": [
            "           Country/Region  Lat_confirmed  Long_confirmed  1/22/20_confirmed  \\\n",
            "0             Afghanistan      33.939110       67.709953                  0   \n",
            "1                 Albania      41.153300       20.168300                  0   \n",
            "2                 Algeria      28.033900        1.659600                  0   \n",
            "3                 Andorra      42.506300        1.521800                  0   \n",
            "4                  Angola     -11.202700       17.873900                  0   \n",
            "..                    ...            ...             ...                ...   \n",
            "196    West Bank and Gaza      31.952200       35.233200                  0   \n",
            "197  Winter Olympics 2022      39.904200      116.407400                  0   \n",
            "198                 Yemen      15.552727       48.516388                  0   \n",
            "199                Zambia     -13.133897       27.849332                  0   \n",
            "200              Zimbabwe     -19.015438       29.154857                  0   \n",
            "\n",
            "     1/23/20_confirmed  1/24/20_confirmed  1/25/20_confirmed  \\\n",
            "0                    0                  0                  0   \n",
            "1                    0                  0                  0   \n",
            "2                    0                  0                  0   \n",
            "3                    0                  0                  0   \n",
            "4                    0                  0                  0   \n",
            "..                 ...                ...                ...   \n",
            "196                  0                  0                  0   \n",
            "197                  0                  0                  0   \n",
            "198                  0                  0                  0   \n",
            "199                  0                  0                  0   \n",
            "200                  0                  0                  0   \n",
            "\n",
            "     1/26/20_confirmed  1/27/20_confirmed  1/28/20_confirmed  ...  \\\n",
            "0                    0                  0                  0  ...   \n",
            "1                    0                  0                  0  ...   \n",
            "2                    0                  0                  0  ...   \n",
            "3                    0                  0                  0  ...   \n",
            "4                    0                  0                  0  ...   \n",
            "..                 ...                ...                ...  ...   \n",
            "196                  0                  0                  0  ...   \n",
            "197                  0                  0                  0  ...   \n",
            "198                  0                  0                  0  ...   \n",
            "199                  0                  0                  0  ...   \n",
            "200                  0                  0                  0  ...   \n",
            "\n",
            "     2/28/23_deaths  3/1/23_deaths  3/2/23_deaths  3/3/23_deaths  \\\n",
            "0              7896           7896           7896           7896   \n",
            "1              3598           3598           3598           3598   \n",
            "2              6881           6881           6881           6881   \n",
            "3               165            165            165            165   \n",
            "4              1933           1933           1933           1933   \n",
            "..              ...            ...            ...            ...   \n",
            "196            5708           5708           5708           5708   \n",
            "197               0              0              0              0   \n",
            "198            2159           2159           2159           2159   \n",
            "199            4057           4057           4057           4057   \n",
            "200            5663           5668           5668           5668   \n",
            "\n",
            "     3/4/23_deaths  3/5/23_deaths  3/6/23_deaths  3/7/23_deaths  \\\n",
            "0             7896           7896           7896           7896   \n",
            "1             3598           3598           3598           3598   \n",
            "2             6881           6881           6881           6881   \n",
            "3              165            165            165            165   \n",
            "4             1933           1933           1933           1933   \n",
            "..             ...            ...            ...            ...   \n",
            "196           5708           5708           5708           5708   \n",
            "197              0              0              0              0   \n",
            "198           2159           2159           2159           2159   \n",
            "199           4057           4057           4057           4057   \n",
            "200           5668           5668           5668           5668   \n",
            "\n",
            "     3/8/23_deaths  3/9/23_deaths  \n",
            "0             7896           7896  \n",
            "1             3598           3598  \n",
            "2             6881           6881  \n",
            "3              165            165  \n",
            "4             1933           1933  \n",
            "..             ...            ...  \n",
            "196           5708           5708  \n",
            "197              0              0  \n",
            "198           2159           2159  \n",
            "199           4057           4057  \n",
            "200           5671           5671  \n",
            "\n",
            "[201 rows x 2291 columns]\n"
          ]
        },
        {
          "output_type": "stream",
          "name": "stderr",
          "text": [
            "<ipython-input-2-54c0961aeb5e>:13: FutureWarning: The default value of numeric_only in DataFrameGroupBy.sum is deprecated. In a future version, numeric_only will default to False. Either specify numeric_only or select only columns which should be valid for the function.\n",
            "  deaths_global = deaths_df.groupby(['Country/Region']).sum().reset_index()\n"
          ]
        }
      ]
    }
  ]
}